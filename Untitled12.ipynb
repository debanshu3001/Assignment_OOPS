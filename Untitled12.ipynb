{
  "nbformat": 4,
  "nbformat_minor": 0,
  "metadata": {
    "colab": {
      "provenance": []
    },
    "kernelspec": {
      "name": "python3",
      "display_name": "Python 3"
    },
    "language_info": {
      "name": "python"
    }
  },
  "cells": [
    {
      "cell_type": "markdown",
      "source": [
        "**1. What are the five key concepts of Object-Oriented Programming (OOP)?**"
      ],
      "metadata": {
        "id": "3D4ymtxd3IQK"
      }
    },
    {
      "cell_type": "markdown",
      "source": [
        "The five key concepts of Object-Oriented Programming (OOP) are:\n",
        "\n",
        "Class: A blueprint or template for creating objects. A class defines properties (attributes) and methods (functions) that the objects created from the class will have. For example, a class Car could have attributes like color and model and methods like drive() and stop().\n",
        "\n",
        "Object: An instance of a class. Objects are created from classes and can have their own values for attributes. For example, an object myCar could be an instance of the Car class with the color attribute set to \"red.\"\n",
        "\n",
        "Encapsulation: The concept of bundling data (attributes) and methods (functions) together inside a class while restricting access to some of the object's components. This is done through access modifiers (private, public, protected), which protect the internal state of the object and only expose necessary functionalities.\n",
        "\n",
        "Inheritance: A mechanism that allows one class (subclass) to inherit attributes and methods from another class (superclass). This promotes code reuse and hierarchical classification. For example, a class ElectricCar could inherit from the Car class but add its own attributes and methods specific to electric vehicles.\n",
        "\n",
        "Polymorphism: The ability of different classes to be treated as instances of the same class through a shared interface or inheritance. Polymorphism allows methods to be used in multiple forms, depending on the object that is calling them. For example, different subclasses might implement a startEngine() method in various ways, but the call to startEngine() would work the same way on objects of those subclasses.\n",
        "\n"
      ],
      "metadata": {
        "id": "xhwJo81z3XGG"
      }
    },
    {
      "cell_type": "markdown",
      "source": [
        "**2. Write a Python class for a Car with attributes for 'make', 'model, and year. Include a method to display the car's information.**\n"
      ],
      "metadata": {
        "id": "vMyQxmlC3wY0"
      }
    },
    {
      "cell_type": "code",
      "source": [
        "'''Here’s a simple Python class for a Car that includes attributes for make, model, and year, along with a method to\n",
        " display the car’s information:'''\n",
        "\n",
        "class Car:\n",
        "    def __init__(self, make, model, year):\n",
        "        self.make = make\n",
        "        self.model = model\n",
        "        self.year = year\n",
        "\n",
        "    def display_info(self):\n",
        "        print(f\"Car Information: {self.year} {self.make} {self.model}\")\n",
        "\n",
        "\n",
        "\n",
        "#Example of how to use the Car class:\n",
        "\n",
        "\n",
        "# Creating an instance of the Car class\n",
        "my_car = Car(\"Tata\", \"Mahindra\", 2024)\n",
        "\n",
        "# Displaying the car's information\n",
        "my_car.display_info()\n"
      ],
      "metadata": {
        "colab": {
          "base_uri": "https://localhost:8080/",
          "height": 0
        },
        "id": "omIw90Pc3Scm",
        "outputId": "b683e154-5553-45f3-d860-70ea16ed2629"
      },
      "execution_count": 4,
      "outputs": [
        {
          "output_type": "stream",
          "name": "stdout",
          "text": [
            "Car Information: 2024 Tata Mahindra\n"
          ]
        }
      ]
    },
    {
      "cell_type": "markdown",
      "source": [
        "This code defines the Car class with the required attributes and a display_info() method to print out the car's details.\n",
        "\n",
        "\n",
        "\n",
        "\n",
        "\n",
        "\n"
      ],
      "metadata": {
        "id": "gJDOP_IY46Uy"
      }
    },
    {
      "cell_type": "markdown",
      "source": [
        "**3. Explain the difference between instance methods and class methods. Provide an example of each.**\n"
      ],
      "metadata": {
        "id": "BohaNEsP4-iA"
      }
    },
    {
      "cell_type": "markdown",
      "source": [
        "Key Differences:\n",
        "\n",
        "\n",
        "*Instance methods require an instance of the class and operate on instance-level data.\n",
        "\n",
        "\n",
        "\n",
        "\n",
        "*Class methods operate on class-level data and can be called on the class itself, not just on instances."
      ],
      "metadata": {
        "id": "CY5i9KKr5I7p"
      }
    },
    {
      "cell_type": "code",
      "source": [
        "#Example of an Instance Method:\n",
        "\n",
        "class Car:\n",
        "    def __init__(self, make, model, year):\n",
        "        self.make = make\n",
        "        self.model = model\n",
        "        self.year = year\n",
        "\n",
        "    # Instance method\n",
        "    def display_info(self):\n",
        "        print(f\"Car Information: {self.year} {self.make} {self.model}\")\n",
        "\n",
        "# Creating an instance of the Car class\n",
        "my_car = Car(\"Tata\", \"Mahindra\", 2024)\n",
        "\n",
        "# Calling an instance method\n",
        "my_car.display_info()\n",
        "\n"
      ],
      "metadata": {
        "colab": {
          "base_uri": "https://localhost:8080/",
          "height": 0
        },
        "id": "wgCYrp5D4SsC",
        "outputId": "5ef12631-305d-45f0-84a7-e9b599211028"
      },
      "execution_count": 6,
      "outputs": [
        {
          "output_type": "stream",
          "name": "stdout",
          "text": [
            "Car Information: 2024 Tata Mahindra\n"
          ]
        }
      ]
    },
    {
      "cell_type": "code",
      "source": [
        "#Example of a Class Method:\n",
        "\n",
        "\n",
        "class Car:\n",
        "    car_count = 0  # Class-level attribute\n",
        "\n",
        "    def __init__(self, make, model, year):\n",
        "        self.make = make\n",
        "        self.model = model\n",
        "        self.year = year\n",
        "        Car.car_count += 1  # Increment car count for every car instance created\n",
        "\n",
        "    # Class method\n",
        "    @classmethod\n",
        "    def total_cars(cls):\n",
        "        print(f\"Total number of cars created: {cls.car_count}\")\n",
        "\n",
        "# Creating instances of the Car class\n",
        "car1 = Car(\"Tata\", \"Mahindra\", 2024)\n",
        "car2 = Car(\"Honda\", \"Accord\", 2022)\n",
        "\n",
        "# Calling the class method\n",
        "Car.total_cars()\n"
      ],
      "metadata": {
        "colab": {
          "base_uri": "https://localhost:8080/",
          "height": 0
        },
        "id": "89Wv7TqA5_N_",
        "outputId": "61fd2146-ed9f-4212-c414-7116c7c8be77"
      },
      "execution_count": 7,
      "outputs": [
        {
          "output_type": "stream",
          "name": "stdout",
          "text": [
            "Total number of cars created: 2\n"
          ]
        }
      ]
    },
    {
      "cell_type": "markdown",
      "source": [
        "**4. How does Python implement method overloading? Give an example.**\n"
      ],
      "metadata": {
        "id": "Q3tX895r7_7v"
      }
    },
    {
      "cell_type": "markdown",
      "source": [
        "In Python, if you define two methods with the same name, the latter will overwrite the former.\n",
        "Python allows a function or method to accept a variable number of arguments using techniques such as default parameters, *args (positional arguments), and **kwargs (keyword arguments).\n",
        "You can check the type or number of arguments passed into the function and handle them accordingly within a single method."
      ],
      "metadata": {
        "id": "iHaIo0ov8SwG"
      }
    },
    {
      "cell_type": "code",
      "source": [
        "class Calculator:\n",
        "    def add(self, a, b=0, c=0):\n",
        "        return a + b + c\n",
        "\n",
        "# Creating an instance of the Calculator class\n",
        "calc = Calculator()\n",
        "\n",
        "# Using the same method with different numbers of arguments\n",
        "print(calc.add(5))\n",
        "print(calc.add(5, 10))\n",
        "print(calc.add(5, 10, 20))"
      ],
      "metadata": {
        "colab": {
          "base_uri": "https://localhost:8080/",
          "height": 0
        },
        "id": "kzkIE5mg76E3",
        "outputId": "92815945-1a3b-4a54-ffa8-32bcf8fa6a94"
      },
      "execution_count": 8,
      "outputs": [
        {
          "output_type": "stream",
          "name": "stdout",
          "text": [
            "5\n",
            "15\n",
            "35\n"
          ]
        }
      ]
    },
    {
      "cell_type": "markdown",
      "source": [
        "**5. What are the three types of access modifiers in Python? How are they denoted?**\n"
      ],
      "metadata": {
        "id": "5isrIEuz8pdf"
      }
    },
    {
      "cell_type": "markdown",
      "source": [
        "\n",
        "In Python, access modifiers control the visibility and accessibility of class attributes and methods.\n",
        "\n",
        "The three types of access modifiers in Python are:"
      ],
      "metadata": {
        "id": "jH5oSMJD84tf"
      }
    },
    {
      "cell_type": "markdown",
      "source": [
        "1. Public\n",
        "Definition: Public members are accessible from anywhere, both inside and outside of the class. This is the default access level for class attributes and methods in Python.\n",
        "Denoted by: No special notation (just a normal attribute name)."
      ],
      "metadata": {
        "id": "mZdgNOGS9F4p"
      }
    },
    {
      "cell_type": "code",
      "source": [
        "class Car:\n",
        "    def __init__(self, make, model):\n",
        "        self.make = make  # Public attribute\n",
        "        self.model = model  # Public attribute\n",
        "\n",
        "    def display_info(self):  # Public method\n",
        "        print(f\"Car: {self.make} {self.model}\")\n",
        "\n",
        "car = Car(\"Tata\", \"Mahindra\")\n",
        "print(car.make)\n",
        "car.display_info()\n"
      ],
      "metadata": {
        "colab": {
          "base_uri": "https://localhost:8080/",
          "height": 0
        },
        "id": "8PsVA1zJ8lS3",
        "outputId": "15afa4bf-aea5-4eb1-eacd-739f6cb7e377"
      },
      "execution_count": 10,
      "outputs": [
        {
          "output_type": "stream",
          "name": "stdout",
          "text": [
            "Tata\n",
            "Car: Tata Mahindra\n"
          ]
        }
      ]
    },
    {
      "cell_type": "markdown",
      "source": [
        "Protected\n",
        "Definition: Protected members are intended to be accessible only within the class and its subclasses. However, Python doesn't enforce this and they are still accessible from outside the class, but it is discouraged.\n",
        "Denoted by: A single underscore _ before the attribute or method name."
      ],
      "metadata": {
        "id": "9Re5nYTO9YP4"
      }
    },
    {
      "cell_type": "code",
      "source": [
        "class Car:\n",
        "    def __init__(self, make, model):\n",
        "        self._make = make  # Protected attribute\n",
        "        self._model = model  # Protected attribute\n",
        "\n",
        "    def _display_info(self):  # Protected method\n",
        "        print(f\"Car: {self._make} {self._model}\")\n",
        "\n",
        "car = Car(\"Tata\", \"Mahindra\")\n",
        "print(car._make)\n",
        "car._display_info()\n"
      ],
      "metadata": {
        "colab": {
          "base_uri": "https://localhost:8080/",
          "height": 0
        },
        "id": "jPlab76N9KEn",
        "outputId": "803eff55-e52c-40b3-a47b-27f3a289f4c3"
      },
      "execution_count": 11,
      "outputs": [
        {
          "output_type": "stream",
          "name": "stdout",
          "text": [
            "Tata\n",
            "Car: Tata Mahindra\n"
          ]
        }
      ]
    },
    {
      "cell_type": "markdown",
      "source": [
        "Private\n",
        "Definition: Private members are intended to be accessible only within the class where they are defined. They cannot be accessed directly from outside the class. Python achieves this by name mangling, where the name of the private attribute is internally changed to include the class name.\n",
        "Denoted by: A double underscore __ before the attribute or method name."
      ],
      "metadata": {
        "id": "c7xZf5CU9odf"
      }
    },
    {
      "cell_type": "code",
      "source": [
        "class Car:\n",
        "    def __init__(self, make, model):\n",
        "        self.__make = make  # Private attribute\n",
        "        self.__model = model  # Private attribute\n",
        "\n",
        "    def __display_info(self):  # Private method\n",
        "        print(f\"Car: {self.__make} {self.__model}\")\n",
        "\n",
        "car = Car(\"Tata\", \"Mahindra\")\n",
        "\n",
        "print(car._Car__make)\n",
        "car._Car__display_info()\n"
      ],
      "metadata": {
        "colab": {
          "base_uri": "https://localhost:8080/",
          "height": 0
        },
        "id": "kZX6jOTa9giv",
        "outputId": "affc1ec1-e7ed-4af4-f511-11baecb74982"
      },
      "execution_count": 12,
      "outputs": [
        {
          "output_type": "stream",
          "name": "stdout",
          "text": [
            "Tata\n",
            "Car: Tata Mahindra\n"
          ]
        }
      ]
    },
    {
      "cell_type": "markdown",
      "source": [
        "**6. Describe the five types of inheritance in Python. Provide a simple example of multiple inheritance.**\n"
      ],
      "metadata": {
        "id": "WOtFpyJd92EC"
      }
    },
    {
      "cell_type": "markdown",
      "source": [
        "In Python, inheritance allows a class (child class or subclass) to inherit properties and methods from another class (parent class or superclass). There are five types of inheritance in Python:"
      ],
      "metadata": {
        "id": "F-JLHF3b-HtO"
      }
    },
    {
      "cell_type": "code",
      "source": [
        "#Single Inheritance\n",
        "'''A subclass inherits from a single superclass.'''\n",
        "\n",
        "class Parent:\n",
        "    def parent_method(self):\n",
        "        print(\"This is the parent method\")\n",
        "\n",
        "class Child(Parent):\n",
        "    def child_method(self):\n",
        "        print(\"This is the child method\")\n",
        "\n",
        "child = Child()\n",
        "child.parent_method()  # Inherited from Parent\n",
        "child.child_method()   # Defined in Child\n"
      ],
      "metadata": {
        "colab": {
          "base_uri": "https://localhost:8080/",
          "height": 0
        },
        "id": "KrhlZIx390lH",
        "outputId": "a0481292-dd4b-42c9-f688-e4ab388d7a1d"
      },
      "execution_count": 16,
      "outputs": [
        {
          "output_type": "stream",
          "name": "stdout",
          "text": [
            "This is the parent method\n",
            "This is the child method\n"
          ]
        }
      ]
    },
    {
      "cell_type": "code",
      "source": [
        "#Multiple Inheritance\n",
        "'''A subclass inherits from more than one superclass. This allows the subclass to inherit attributes\n",
        " and methods from multiple parent classes.'''\n",
        "\n",
        "\n",
        "class Parent1:\n",
        "    def method_parent1(self):\n",
        "        print(\"Method from Parent 1\")\n",
        "\n",
        "class Parent2:\n",
        "    def method_parent2(self):\n",
        "        print(\"Method from Parent 2\")\n",
        "\n",
        "class Child(Parent1, Parent2):\n",
        "    def child_method(self):\n",
        "        print(\"Method from Child\")\n",
        "\n",
        "child = Child()\n",
        "child.method_parent1()  # Inherited from Parent1\n",
        "child.method_parent2()  # Inherited from Parent2\n",
        "child.child_method()    # Defined in Child\n",
        "\n"
      ],
      "metadata": {
        "colab": {
          "base_uri": "https://localhost:8080/",
          "height": 0
        },
        "id": "i_41_vu6-QFu",
        "outputId": "e7c912ec-13d5-4e28-fd4d-ecc2fa793390"
      },
      "execution_count": 18,
      "outputs": [
        {
          "output_type": "stream",
          "name": "stdout",
          "text": [
            "Method from Parent 1\n",
            "Method from Parent 2\n",
            "Method from Child\n"
          ]
        }
      ]
    },
    {
      "cell_type": "code",
      "source": [
        "#Multilevel Inheritance\n",
        "'''A subclass inherits from a class that itself is a subclass, forming a chain of inheritance.'''\n",
        "\n",
        "class Grandparent:\n",
        "    def grandparent_method(self):\n",
        "        print(\"This is the grandparent method\")\n",
        "\n",
        "class Parent(Grandparent):\n",
        "    def parent_method(self):\n",
        "        print(\"This is the parent method\")\n",
        "\n",
        "class Child(Parent):\n",
        "    def child_method(self):\n",
        "        print(\"This is the child method\")\n",
        "\n",
        "child = Child()\n",
        "child.grandparent_method()  # Inherited from Grandparent\n",
        "child.parent_method()       # Inherited from Parent\n",
        "child.child_method()        # Defined in Child\n"
      ],
      "metadata": {
        "colab": {
          "base_uri": "https://localhost:8080/",
          "height": 0
        },
        "id": "164u6xxi-hxv",
        "outputId": "5afa6721-c827-46d3-b2ee-36f3c3fbbf59"
      },
      "execution_count": 19,
      "outputs": [
        {
          "output_type": "stream",
          "name": "stdout",
          "text": [
            "This is the grandparent method\n",
            "This is the parent method\n",
            "This is the child method\n"
          ]
        }
      ]
    },
    {
      "cell_type": "code",
      "source": [
        "# Hierarchical Inheritance\n",
        "'''Multiple subclasses inherit from the same superclass. Each subclass has its own specific methods but\n",
        "shares common characteristics from the superclass.'''\n",
        "\n",
        "\n",
        "class Parent:\n",
        "    def parent_method(self):\n",
        "        print(\"This is the parent method\")\n",
        "\n",
        "class Child1(Parent):\n",
        "    def child1_method(self):\n",
        "        print(\"This is the child1 method\")\n",
        "\n",
        "class Child2(Parent):\n",
        "    def child2_method(self):\n",
        "        print(\"This is the child2 method\")\n",
        "\n",
        "child1 = Child1()\n",
        "child2 = Child2()\n",
        "\n",
        "child1.parent_method()  # Inherited from Parent\n",
        "child2.parent_method()  # Inherited from Parent\n"
      ],
      "metadata": {
        "colab": {
          "base_uri": "https://localhost:8080/",
          "height": 0
        },
        "id": "97iVg5xG-01e",
        "outputId": "e345a43b-d7a2-4468-9eee-0698776e5132"
      },
      "execution_count": 20,
      "outputs": [
        {
          "output_type": "stream",
          "name": "stdout",
          "text": [
            "This is the parent method\n",
            "This is the parent method\n"
          ]
        }
      ]
    },
    {
      "cell_type": "code",
      "source": [
        "# Hybrid Inheritance\n",
        "'''A combination of multiple types of inheritance. For example, it could include a combination of hierarchical\n",
        " and multiple inheritance.'''\n",
        "\n",
        "class Base:\n",
        "    def base_method(self):\n",
        "        print(\"This is the base method\")\n",
        "\n",
        "class Parent1(Base):\n",
        "    def method_parent1(self):\n",
        "        print(\"This is method from Parent1\")\n",
        "\n",
        "class Parent2(Base):\n",
        "    def method_parent2(self):\n",
        "        print(\"This is method from Parent2\")\n",
        "\n",
        "class Child(Parent1, Parent2):\n",
        "    def child_method(self):\n",
        "        print(\"This is the child method\")\n",
        "\n",
        "child = Child()\n",
        "child.base_method()      # Inherited from Base\n",
        "child.method_parent1()   # Inherited from Parent1\n",
        "child.method_parent2()   # Inherited from Parent2\n",
        "child.child_method()     # Defined in Child\n"
      ],
      "metadata": {
        "colab": {
          "base_uri": "https://localhost:8080/",
          "height": 0
        },
        "id": "sUHiwSyj_GrP",
        "outputId": "abc8de18-e369-4526-b0d3-2af269e703fc"
      },
      "execution_count": 22,
      "outputs": [
        {
          "output_type": "stream",
          "name": "stdout",
          "text": [
            "This is the base method\n",
            "This is method from Parent1\n",
            "This is method from Parent2\n",
            "This is the child method\n"
          ]
        }
      ]
    },
    {
      "cell_type": "markdown",
      "source": [
        "**7. What is the Method Resolution Order (MRO) in Python? How can you retrieve it programmatically?**\n"
      ],
      "metadata": {
        "id": "RUqydYYG_blY"
      }
    },
    {
      "cell_type": "markdown",
      "source": [
        "The Method Resolution Order (MRO) is the order in which Python looks for a method or attribute in a hierarchy of classes during inheritance. This becomes especially important in cases of multiple inheritance, where a class may inherit from multiple parent classes.\n",
        "\n",
        "Python follows the C3 Linearization Algorithm to determine the MRO. It ensures that:\n",
        "\n",
        "A class appears before its parents.\n",
        "The order is consistent with the inheritance graph.\n",
        "The order respects the hierarchy of base classes.\n",
        "The MRO determines the order in which methods and attributes are resolved, ensuring that classes are looked up in a specific order to avoid ambiguity."
      ],
      "metadata": {
        "id": "npgEFSZR_lMR"
      }
    },
    {
      "cell_type": "code",
      "source": [
        "#Example of MRO in Multiple Inheritance:\n",
        "\n",
        "class A:\n",
        "    def show(self):\n",
        "        print(\"Class A\")\n",
        "\n",
        "class B(A):\n",
        "    def show(self):\n",
        "        print(\"Class B\")\n",
        "\n",
        "class C(A):\n",
        "    def show(self):\n",
        "        print(\"Class C\")\n",
        "\n",
        "class D(B, C):\n",
        "    pass\n",
        "\n",
        "# Creating an instance of D\n",
        "d = D()\n",
        "d.show()\n"
      ],
      "metadata": {
        "colab": {
          "base_uri": "https://localhost:8080/",
          "height": 0
        },
        "id": "cqZ7dv6a_TKO",
        "outputId": "9f5cf33f-e315-42eb-aeb1-0fc7d35e7964"
      },
      "execution_count": 23,
      "outputs": [
        {
          "output_type": "stream",
          "name": "stdout",
          "text": [
            "Class B\n"
          ]
        }
      ]
    },
    {
      "cell_type": "markdown",
      "source": [
        "**8. Create an abstract base class 'Shape with an abstract method area()\". Then create two subclasses Circle and Rectangle that implement the area() method.**\n"
      ],
      "metadata": {
        "id": "DOilv5q3ADKI"
      }
    },
    {
      "cell_type": "code",
      "source": [
        "from abc import ABC, abstractmethod\n",
        "import math\n",
        "\n",
        "# Abstract Base Class\n",
        "class Shape(ABC):\n",
        "\n",
        "    # Abstract method\n",
        "    @abstractmethod\n",
        "    def area(self):\n",
        "        pass\n",
        "\n",
        "# Subclass Circle that implements the area() method\n",
        "class Circle(Shape):\n",
        "\n",
        "    def __init__(self, radius):\n",
        "        self.radius = radius\n",
        "\n",
        "    def area(self):\n",
        "        return math.pi * self.radius ** 2\n",
        "\n",
        "# Subclass Rectangle that implements the area() method\n",
        "class Rectangle(Shape):\n",
        "\n",
        "    def __init__(self, width, height):\n",
        "        self.width = width\n",
        "        self.height = height\n",
        "\n",
        "    def area(self):\n",
        "        return self.width * self.height\n",
        "\n",
        "# Example usage:\n",
        "circle = Circle(5)\n",
        "rectangle = Rectangle(4, 6)\n",
        "\n",
        "print(f\"Area of the circle: {circle.area():.2f}\")\n",
        "print(f\"Area of the rectangle: {rectangle.area()}\")\n"
      ],
      "metadata": {
        "colab": {
          "base_uri": "https://localhost:8080/",
          "height": 0
        },
        "id": "APS9Aq8E__FX",
        "outputId": "262acac0-66af-49f3-c0ad-08b8f530c8e5"
      },
      "execution_count": 24,
      "outputs": [
        {
          "output_type": "stream",
          "name": "stdout",
          "text": [
            "Area of the circle: 78.54\n",
            "Area of the rectangle: 24\n"
          ]
        }
      ]
    },
    {
      "cell_type": "markdown",
      "source": [
        "**9. Demonstrate polymorphism by creating a function that can work with different shape objects to calculate and print their areas.**\n"
      ],
      "metadata": {
        "id": "F4R0K_RRAVtv"
      }
    },
    {
      "cell_type": "code",
      "source": [
        "from abc import ABC, abstractmethod\n",
        "import math\n",
        "\n",
        "# Abstract Base Class\n",
        "class Shape(ABC):\n",
        "\n",
        "    # Abstract method\n",
        "    @abstractmethod\n",
        "    def area(self):\n",
        "        pass\n",
        "\n",
        "# Subclass Circle that implements the area() method\n",
        "class Circle(Shape):\n",
        "\n",
        "    def __init__(self, radius):\n",
        "        self.radius = radius\n",
        "\n",
        "    def area(self):\n",
        "        return math.pi * self.radius ** 2\n",
        "\n",
        "# Subclass Rectangle that implements the area() method\n",
        "class Rectangle(Shape):\n",
        "\n",
        "    def __init__(self, width, height):\n",
        "        self.width = width\n",
        "        self.height = height\n",
        "\n",
        "    def area(self):\n",
        "        return self.width * self.height\n",
        "\n",
        "# Polymorphic function to calculate and print the area of any shape\n",
        "def print_area(shape):\n",
        "    print(f\"The area of the shape is: {shape.area()}\")\n",
        "\n",
        "shapes = [Circle(5), Rectangle(4, 6)]  # List of different shapes\n",
        "\n",
        "for shape in shapes:\n",
        "    print_area(shape)\n"
      ],
      "metadata": {
        "colab": {
          "base_uri": "https://localhost:8080/",
          "height": 0
        },
        "id": "WH5_L1lwARd3",
        "outputId": "a582fef0-81e3-41a0-f7f0-45b2548c7126"
      },
      "execution_count": 25,
      "outputs": [
        {
          "output_type": "stream",
          "name": "stdout",
          "text": [
            "The area of the shape is: 78.53981633974483\n",
            "The area of the shape is: 24\n"
          ]
        }
      ]
    },
    {
      "cell_type": "markdown",
      "source": [
        "**10. Implement encapsulation in a BankAccount class with private attributes for 'balance and account_number. Include methods for deposit, withdrawal, and balance inquiry.**\n"
      ],
      "metadata": {
        "id": "VFxwf2hRAkZH"
      }
    },
    {
      "cell_type": "code",
      "source": [
        "class BankAccount:\n",
        "    def __init__(self, account_number, initial_balance=0):\n",
        "        # Private attributes\n",
        "        self.__account_number = account_number\n",
        "        self.__balance = initial_balance\n",
        "\n",
        "    # Public method to deposit money\n",
        "    def deposit(self, amount):\n",
        "        if amount > 0:\n",
        "            self.__balance += amount\n",
        "            print(f\"Deposited {amount}. New balance: {self.__balance}\")\n",
        "        else:\n",
        "            print(\"Deposit amount must be positive.\")\n",
        "\n",
        "    # Public method to withdraw money\n",
        "    def withdraw(self, amount):\n",
        "        if 0 < amount <= self.__balance:\n",
        "            self.__balance -= amount\n",
        "            print(f\"Withdrew {amount}. New balance: {self.__balance}\")\n",
        "        else:\n",
        "            print(\"Insufficient funds or invalid withdrawal amount.\")\n",
        "\n",
        "    # Public method to check balance\n",
        "    def get_balance(self):\n",
        "        return self.__balance\n",
        "\n",
        "    # Public method to get the account number\n",
        "    def get_account_number(self):\n",
        "        return self.__account_number\n",
        "\n",
        "# Example usage\n",
        "account = BankAccount(\"123456789\", 500)\n",
        "\n",
        "# Performing operations\n",
        "print(f\"Account Number: {account.get_account_number()}\")\n",
        "print(f\"Initial Balance: {account.get_balance()}\")\n",
        "\n",
        "account.deposit(200)\n",
        "account.withdraw(100)\n",
        "account.withdraw(1000)\n",
        "\n",
        "print(f\"Final Balance: {account.get_balance()}\")\n"
      ],
      "metadata": {
        "colab": {
          "base_uri": "https://localhost:8080/",
          "height": 0
        },
        "id": "jY8Xfi16AiiA",
        "outputId": "72476551-a919-44f5-cbd9-2fe373233f73"
      },
      "execution_count": 26,
      "outputs": [
        {
          "output_type": "stream",
          "name": "stdout",
          "text": [
            "Account Number: 123456789\n",
            "Initial Balance: 500\n",
            "Deposited 200. New balance: 700\n",
            "Withdrew 100. New balance: 600\n",
            "Insufficient funds or invalid withdrawal amount.\n",
            "Final Balance: 600\n"
          ]
        }
      ]
    },
    {
      "cell_type": "markdown",
      "source": [
        "**11. Write a class that overrides the_str_andadd_ magic methods. What will these methods allow you to do?**\n",
        "\n",
        "\n"
      ],
      "metadata": {
        "id": "0a7o_9PSA3Lv"
      }
    },
    {
      "cell_type": "code",
      "source": [
        "class Point:\n",
        "    def __init__(self, x, y):\n",
        "        self.x = x\n",
        "        self.y = y\n",
        "\n",
        "    # Overriding the __str__ method to provide a custom string representation\n",
        "    def __str__(self):\n",
        "        return f\"Point({self.x}, {self.y})\"\n",
        "\n",
        "    # Overriding the __add__ method to allow adding two Point objects\n",
        "    def __add__(self, other):\n",
        "        if isinstance(other, Point):\n",
        "            return Point(self.x + other.x, self.y + other.y)\n",
        "        else:\n",
        "            raise TypeError(\"Unsupported operand type for +\")\n",
        "\n",
        "# Example usage\n",
        "point1 = Point(2, 3)\n",
        "point2 = Point(4, 5)\n",
        "\n",
        "# Using the __str__ method to print point objects\n",
        "print(point1)\n",
        "print(point2)\n",
        "\n",
        "# Using the __add__ method to add two points\n",
        "point3 = point1 + point2\n",
        "print(point3)\n"
      ],
      "metadata": {
        "colab": {
          "base_uri": "https://localhost:8080/",
          "height": 0
        },
        "id": "5C0Zl05iA1Mw",
        "outputId": "f73bb59f-6409-433d-b143-e7776d00cd39"
      },
      "execution_count": 27,
      "outputs": [
        {
          "output_type": "stream",
          "name": "stdout",
          "text": [
            "Point(2, 3)\n",
            "Point(4, 5)\n",
            "Point(6, 8)\n"
          ]
        }
      ]
    },
    {
      "cell_type": "markdown",
      "source": [
        "**12. Create a decorator that measures and prints the execution time of a function.**\n"
      ],
      "metadata": {
        "id": "UH3WanXbBGHP"
      }
    },
    {
      "cell_type": "code",
      "source": [
        "import time\n",
        "\n",
        "# Decorator to measure and print the execution time of a function\n",
        "def execution_time_decorator(func):\n",
        "    def wrapper(*args, **kwargs):\n",
        "        start_time = time.time()  # Record start time\n",
        "        result = func(*args, **kwargs)  # Execute the function\n",
        "        end_time = time.time()  # Record end time\n",
        "        execution_time = end_time - start_time  # Calculate the duration\n",
        "        print(f\"Execution time of {func.__name__}: {execution_time:.6f} seconds\")\n",
        "        return result  # Return the original function's result\n",
        "    return wrapper\n",
        "\n",
        "# Example function that we will measure with the decorator\n",
        "@execution_time_decorator\n",
        "def example_function(n):\n",
        "    total = 0\n",
        "    for i in range(n):\n",
        "        total += i\n",
        "    return total\n",
        "\n",
        "# Using the decorated function\n",
        "result = example_function(1000000)\n",
        "print(f\"Result: {result}\")\n"
      ],
      "metadata": {
        "colab": {
          "base_uri": "https://localhost:8080/",
          "height": 0
        },
        "id": "hrycxz8WBFT4",
        "outputId": "79d88cba-3b6e-43b8-c2a9-458ab1ef5ebb"
      },
      "execution_count": 29,
      "outputs": [
        {
          "output_type": "stream",
          "name": "stdout",
          "text": [
            "Execution time of example_function: 0.067233 seconds\n",
            "Result: 499999500000\n"
          ]
        }
      ]
    },
    {
      "cell_type": "markdown",
      "source": [
        "**13. Explain the concept of the Diamond Problem in multiple inheritance. How does Python resolve it?**\n",
        "\n"
      ],
      "metadata": {
        "id": "aOKsE3L1BeUX"
      }
    },
    {
      "cell_type": "markdown",
      "source": [
        "The Diamond Problem occurs in object-oriented programming when a class inherits from multiple classes, and those parent classes share a common ancestor. This can create ambiguity when the same method or attribute is inherited from more than one parent class."
      ],
      "metadata": {
        "id": "83hiSK7fBoOv"
      }
    },
    {
      "cell_type": "code",
      "source": [
        "class A:\n",
        "    def greet(self):\n",
        "        print(\"Hello from A\")\n",
        "\n",
        "class B(A):\n",
        "    def greet(self):\n",
        "        print(\"Hello from B\")\n",
        "\n",
        "class C(A):\n",
        "    def greet(self):\n",
        "        print(\"Hello from C\")\n",
        "\n",
        "class D(B, C):\n",
        "    pass\n",
        "\n",
        "d = D()\n",
        "d.greet()  # Which greet() method will be called?\n"
      ],
      "metadata": {
        "colab": {
          "base_uri": "https://localhost:8080/",
          "height": 0
        },
        "id": "esHSG0JsBSOv",
        "outputId": "3ca2179e-f3e7-4245-ce38-dbe71dc3deb9"
      },
      "execution_count": 30,
      "outputs": [
        {
          "output_type": "stream",
          "name": "stdout",
          "text": [
            "Hello from B\n"
          ]
        }
      ]
    },
    {
      "cell_type": "markdown",
      "source": [
        "**14. Write a class method that keeps track of the number of instances created from a class.**\n"
      ],
      "metadata": {
        "id": "qdMBBpQ-BxW3"
      }
    },
    {
      "cell_type": "code",
      "source": [
        "class InstanceCounter:\n",
        "    instance_count = 0  # Class variable to keep track of instances\n",
        "\n",
        "    def __init__(self):\n",
        "        InstanceCounter.instance_count += 1  # Increment the count whenever an instance is created\n",
        "\n",
        "    @classmethod\n",
        "    def get_instance_count(cls):\n",
        "        return cls.instance_count  # Return the current count of instances\n",
        "\n",
        "# Example usage\n",
        "obj1 = InstanceCounter()\n",
        "obj2 = InstanceCounter()\n",
        "obj3 = InstanceCounter()\n",
        "\n",
        "# Get the count of instances created\n",
        "print(f\"Number of instances created: {InstanceCounter.get_instance_count()}\")\n"
      ],
      "metadata": {
        "colab": {
          "base_uri": "https://localhost:8080/",
          "height": 0
        },
        "id": "DT2j_VW_BuK3",
        "outputId": "5930778d-bd71-4510-d15f-e8cc55917bd2"
      },
      "execution_count": 31,
      "outputs": [
        {
          "output_type": "stream",
          "name": "stdout",
          "text": [
            "Number of instances created: 3\n"
          ]
        }
      ]
    },
    {
      "cell_type": "markdown",
      "source": [
        "**15. Implement a static method in a class that checks if a given year is a leap year.**"
      ],
      "metadata": {
        "id": "r_buJZn7B-6D"
      }
    },
    {
      "cell_type": "code",
      "source": [
        "class YearUtils:\n",
        "    @staticmethod\n",
        "    def is_leap_year(year):\n",
        "        if (year % 4 == 0 and year % 100 != 0) or (year % 400 == 0):\n",
        "            return True\n",
        "        else:\n",
        "            return False\n",
        "\n",
        "# Example usage\n",
        "year = 2024\n",
        "if YearUtils.is_leap_year(year):\n",
        "    print(f\"{year} is a leap year.\")\n",
        "else:\n",
        "    print(f\"{year} is not a leap year.\")\n",
        "\n",
        "year = 1900\n",
        "if YearUtils.is_leap_year(year):\n",
        "    print(f\"{year} is a leap year.\")\n",
        "else:\n",
        "    print(f\"{year} is not a leap year.\")\n",
        "\n",
        "year = 2000\n",
        "if YearUtils.is_leap_year(year):\n",
        "    print(f\"{year} is a leap year.\")\n",
        "else:\n",
        "    print(f\"{year} is not a leap year.\")\n"
      ],
      "metadata": {
        "colab": {
          "base_uri": "https://localhost:8080/",
          "height": 0
        },
        "id": "80o-Dx_dB52n",
        "outputId": "56cefe4f-9d2b-4b91-b75a-999ef31bda42"
      },
      "execution_count": 32,
      "outputs": [
        {
          "output_type": "stream",
          "name": "stdout",
          "text": [
            "2024 is a leap year.\n",
            "1900 is not a leap year.\n",
            "2000 is a leap year.\n"
          ]
        }
      ]
    },
    {
      "cell_type": "code",
      "source": [],
      "metadata": {
        "id": "IdVQVHItCCuQ"
      },
      "execution_count": null,
      "outputs": []
    }
  ]
}